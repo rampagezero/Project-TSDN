{
 "cells": [
  {
   "cell_type": "code",
   "execution_count": 272,
   "id": "64c9b659-3622-45e7-b1a2-a7f7f55c5628",
   "metadata": {
    "tags": []
   },
   "outputs": [],
   "source": [
    "import pandas as pd\n",
    "import requests\n",
    "url='https://satudata.jabarprov.go.id/api-backend/bigdata/dkpp/od_16035_jml_prdks_telur_ayam_buras__kabupatenkota?limit=10000,https://satudata.jabarprov.go.id/api-backend/bigdata/dkpp/od_16038_jumlah_produksi_telur_puyuh_berdasarkan_kabupatenkota?limit=10000,https://satudata.jabarprov.go.id/api-backend/bigdata/dkpp/od_16037_jumlah_produksi_telur_itik_berdasarkan_kabupatenkota?limit=10000,https://satudata.jabarprov.go.id/api-backend/bigdata/dkpp/od_16036_jml_prdks_telur_ayam_petelur__kabupatenkota?limit=10000,https://satudata.jabarprov.go.id/api-backend/bigdata/disbun-2-2/od_16879_prdks_tnmn_thnan_perkebunan_rakyat_komoditi_aren__kabu?limit=10000,https://satudata.jabarprov.go.id/api-backend/bigdata/dkpp/od_16034_jumlah_produksi_susu_sapi_berdasarkan_kabupatenkota?limit=10000,https://satudata.jabarprov.go.id/api-backend/bigdata/disbun-2-2/od_18192_prdks_tnmn_thnan_perkebunan_rakyat_komoditi_pandan__ka?limit=10000,https://satudata.jabarprov.go.id/api-backend/bigdata/disbun-2-2/od_18222_prdks_tnmn_thnan_perkebunan_rakyat_komoditi_pinang__ka?limit=10000,https://satudata.jabarprov.go.id/api-backend/bigdata/disbun-2-2/od_18189_prdks_tnmn_thnan_perkebunan_rakyat_komoditi_pala__kabu?limit=10000,https://satudata.jabarprov.go.id/api-backend/bigdata/disbun-2-2/od_18147_prdks_tnmn_thnan_perkebunan_rakyat_komoditi_kopi_robus?limit=10000,https://satudata.jabarprov.go.id/api-backend/bigdata/disbun-2-2/od_18041_prdks_tnmn_thnan_perkebunan_rakyat_komoditi_kopi_arabi?limit=10000,https://satudata.jabarprov.go.id/api-backend/bigdata/diskanlut/od_18650_prdks_ikan_tuna_hasil_tangkapan_di_laut__kabupatenkota?limit=10000,https://satudata.jabarprov.go.id/api-backend/bigdata/disbun-2-2/od_17010_prdks_tnmn_thnan_perkebunan_rakyat_komoditi_kayu_manis?limit=10000,https://satudata.jabarprov.go.id/api-backend/bigdata/disbun-2-2/od_18015_prdks_tnmn_thnan_perkebunan_rakyat_komoditi_kelapa_hib?limit=10000,https://satudata.jabarprov.go.id/api-backend/bigdata/disbun-2-2/od_18038_prdks_tnmn_thnan_perkebunan_rakyat_komoditi_kina__kabu?limit=10000,https://satudata.jabarprov.go.id/api-backend/bigdata/dkpp/od_16027_jml_prdks_daging_kelinci__kabupatenkota?limit=10000,https://satudata.jabarprov.go.id/api-backend/bigdata/dkpp/od_16020_jml_prdks_daging_ayam_pedaging__kabupatenkota?limit=10000,https://satudata.jabarprov.go.id/api-backend/bigdata/dkpp/od_16021_jml_prdks_daging_ayam_petelur__kabupatenkota?limit=10000,https://satudata.jabarprov.go.id/api-backend/bigdata/dkpp/od_16023_jumlah_produksi_daging_domba_berdasarkan_kabupatenkota?limit=10000,https://satudata.jabarprov.go.id/api-backend/bigdata/dkpp/od_16028_jml_prdks_daging_kerbau__kabupatenkota?limit=10000,https://satudata.jabarprov.go.id/api-backend/bigdata/disbun-2-2/od_18151_prdks_tnmn_thnan_perkebunan_rakyat_komoditi_lada__kabu?limit=10000,https://satudata.jabarprov.go.id/api-backend/bigdata/disbun-2-2/od_18592_prdks_tnmn_thnan_perkebunan_besar_negara_komoditi_kela?limit=10000,https://satudata.jabarprov.go.id/api-backend/bigdata/dkpp/od_16075_produksi_kulit_sapi_potong_berdasarkan_kabupatenkota?limit=10000,https://satudata.jabarprov.go.id/api-backend/bigdata/dkpp/od_16026_jml_prdks_daging_kambing__kabupatenkota?limit=10000,https://satudata.jabarprov.go.id/api-backend/bigdata/dkpp/od_16025_jml_prdks_daging_itik_manila__kabupatenkota?limit=10000,https://satudata.jabarprov.go.id/api-backend/bigdata/dkpp/od_16031_jumlah_produksi_daging_puyuh_berdasarkan_kabupatenkota?limit=10000,https://satudata.jabarprov.go.id/api-backend/bigdata/dkpp/od_16019_jml_prdks_daging_ayam_buras__kabupatenkota?limit=10000,https://satudata.jabarprov.go.id/api-backend/bigdata/dkpp/od_16024_perkembangan_prdks_daging_itik__kabupatenkota?limit=10000,https://satudata.jabarprov.go.id/api-backend/bigdata/dkpp/od_16069_produksi_daging_sapi_berdasarkan_kabupatenkota?limit=10000'\n",
    "\n",
    "url=url.split(',')\n",
    "\n",
    "import pandas as pd\n",
    "import requests\n",
    "k=dict()\n",
    "for i,j in enumerate(url):\n",
    "    response=requests.get(j)\n",
    "    o=[]\n",
    "    for i,z in enumerate(response.json()['data']):\n",
    "        if response.json()['data'][i]['tahun']==2020:\n",
    "                         o.append(z)\n",
    "    k[j]=o"
   ]
  },
  {
   "cell_type": "code",
   "execution_count": 273,
   "id": "25d79e94-8558-456c-a163-631efcafd15b",
   "metadata": {},
   "outputs": [],
   "source": [
    "namabaru=['telur_ayam_buras','telur_puyuh','telur_itik','telur_ayam_petelur','aren','susu_sapi','pandan','pinang','pala','kopi_robusta','kopi_arabica','ikan_tuna','kayu_manis','kelapa_hibrida','kina','daging_kelinci','daging_ayam_pedaging','daging_ayam_petelur','daging_domba','daging_kerbau','lada','kelapa_sawit','kulit_sapi','daging_kambing','daging_itik_manila','daging_puyuh','daging_ayam_buras','daging_itik','daging_sapi']\n",
    "for i,j in zip(namabaru, list(k.keys())):\n",
    "        k[i]=pd.DataFrame(k[j])\n",
    "        del k[j]"
   ]
  },
  {
   "cell_type": "code",
   "execution_count": 274,
   "id": "585e66f5-b419-429c-8f39-e04c3869e913",
   "metadata": {},
   "outputs": [],
   "source": [
    "umkm_url=('https://satudata.jabarprov.go.id/api-backend/bigdata/diskuk/od_17371_jml_ush_mikro_kecil_menengah_umkm__kabupatenkota_kateg?limit=10000,https://satudata.jabarprov.go.id/api-backend/bigdata/diskuk/od_17367_jml_ush_mikro_kecil_menengah_umkm_binaan__jenis_ush?limit=10000')\n",
    "umkm_url=umkm_url.split(',')"
   ]
  },
  {
   "cell_type": "code",
   "execution_count": 275,
   "id": "9e898014-2b5c-4353-8b3f-8f02a46c5e58",
   "metadata": {},
   "outputs": [],
   "source": [
    "umkm=dict()\n",
    "for i in umkm_url:\n",
    "    response=requests.get(i)\n",
    "    o=[]\n",
    "    for l,z in enumerate(response.json()['data']):\n",
    "        o.append(z)\n",
    "    umkm[i[-60:-25]]=o"
   ]
  },
  {
   "cell_type": "code",
   "execution_count": 276,
   "id": "cb4c3553-dcb7-456d-aea9-95e1262fb2b2",
   "metadata": {},
   "outputs": [
    {
     "ename": "RuntimeError",
     "evalue": "dictionary keys changed during iteration",
     "output_type": "error",
     "traceback": [
      "\u001b[1;31m---------------------------------------------------------------------------\u001b[0m",
      "\u001b[1;31mRuntimeError\u001b[0m                              Traceback (most recent call last)",
      "Cell \u001b[1;32mIn [276], line 2\u001b[0m\n\u001b[0;32m      1\u001b[0m umkm_bener\u001b[38;5;241m=\u001b[39m[\u001b[38;5;124m'\u001b[39m\u001b[38;5;124mumkm_non\u001b[39m\u001b[38;5;124m'\u001b[39m,\u001b[38;5;124m'\u001b[39m\u001b[38;5;124mumkm_binaan\u001b[39m\u001b[38;5;124m'\u001b[39m]\n\u001b[1;32m----> 2\u001b[0m \u001b[38;5;28;01mfor\u001b[39;00m i,j \u001b[38;5;129;01min\u001b[39;00m \u001b[38;5;28mzip\u001b[39m(umkm\u001b[38;5;241m.\u001b[39mkeys(),umkm_bener):\n\u001b[0;32m      3\u001b[0m     umkm[j]\u001b[38;5;241m=\u001b[39mumkm\u001b[38;5;241m.\u001b[39mpop(i)\n\u001b[0;32m      4\u001b[0m     umkm[j]\u001b[38;5;241m=\u001b[39mpd\u001b[38;5;241m.\u001b[39mDataFrame(umkm[j])\n",
      "\u001b[1;31mRuntimeError\u001b[0m: dictionary keys changed during iteration"
     ]
    }
   ],
   "source": [
    "umkm_bener=['umkm_non','umkm_binaan']\n",
    "for i,j in zip(umkm.keys(),umkm_bener):\n",
    "    umkm[j]=umkm.pop(i)\n",
    "    umkm[j]=pd.DataFrame(umkm[j])"
   ]
  },
  {
   "cell_type": "code",
   "execution_count": null,
   "id": "3bae44f4-3470-4336-b352-b469ecffeccb",
   "metadata": {
    "tags": []
   },
   "outputs": [],
   "source": [
    "umkm_non=umkm['umkm_non'][(umkm['umkm_non']['tahun']==2020)].iloc[:,4:7]\n",
    "\n",
    "umkm_binaan=umkm['umkm_binaan'][umkm['umkm_binaan']['tahun']==2020].iloc[:,4:7]\n",
    "\n",
    "umkm_non=umkm_non.iloc[[j for j,i in enumerate(umkm_non['kategori_usaha']) if i in ['MAKANAN',\"MINUMAN\",\"OBAT-OBATAN\",'KULINER']],:]\n",
    "\n",
    "umkm_binaan=umkm_binaan.iloc[[j for j,i in enumerate(umkm_binaan['jenis_usaha']) if i in ['AGRIBISNIS','MAKANAN',\"MINUMAN\",\"OBAT-OBATAN\",'KULINER']],:]\n",
    "\n",
    "umkm_binaan['kategori_usaha']=umkm_binaan['jenis_usaha']\n",
    "\n",
    "umkm_binaan=umkm_binaan.drop(['jenis_usaha'],axis=1)\n",
    "\n",
    "umkm=umkm_non.append(umkm_binaan).reset_index(drop=True)\n",
    "\n",
    "temp=umkm.groupby(by=['kategori_usaha','nama_kabupaten_kota']).sum().unstack(level=0)\n",
    "\n",
    "temp.columns=['AGRIBISNIS','KULINER','MAKANAN','MINUMAN','OBAT-OBATAN']\n",
    "\n",
    "umkm=temp.reset_index()"
   ]
  },
  {
   "cell_type": "code",
   "execution_count": null,
   "id": "0dfa081f-4522-41cc-819f-1f647ecb9bd8",
   "metadata": {},
   "outputs": [],
   "source": [
    "for i in namabaru:\n",
    "    umkm=umkm.merge(k[i].iloc[:,4:6], on='nama_kabupaten_kota')\n",
    "    umkm.rename(columns={umkm.columns[-1]:i},inplace=True)"
   ]
  },
  {
   "cell_type": "code",
   "execution_count": null,
   "id": "28405e6c-9b1c-413e-aabf-02fbd42e9c76",
   "metadata": {},
   "outputs": [],
   "source": [
    "for i in namabaru:\n",
    "    if k[i]['satuan'][0]!='TON':\n",
    "        print(i,k[i]['satuan'][0])"
   ]
  },
  {
   "cell_type": "code",
   "execution_count": null,
   "id": "7e8f2992-e90c-4a3d-8f8e-401cf97320cb",
   "metadata": {},
   "outputs": [],
   "source": [
    "umkm['kulit_sapi']=umkm['kulit_sapi']*20/1000"
   ]
  },
  {
   "cell_type": "code",
   "execution_count": null,
   "id": "6034acfe-1209-46d4-8c4e-3e2df76918b1",
   "metadata": {},
   "outputs": [],
   "source": [
    "umkm['daging_sapi']=umkm['daging_sapi']/1000"
   ]
  },
  {
   "cell_type": "code",
   "execution_count": null,
   "id": "a96aad1c-685e-459b-9367-f64a83f15755",
   "metadata": {},
   "outputs": [],
   "source": []
  }
 ],
 "metadata": {
  "kernelspec": {
   "display_name": "Python 3 (ipykernel)",
   "language": "python",
   "name": "python3"
  },
  "language_info": {
   "codemirror_mode": {
    "name": "ipython",
    "version": 3
   },
   "file_extension": ".py",
   "mimetype": "text/x-python",
   "name": "python",
   "nbconvert_exporter": "python",
   "pygments_lexer": "ipython3",
   "version": "3.10.8"
  }
 },
 "nbformat": 4,
 "nbformat_minor": 5
}
